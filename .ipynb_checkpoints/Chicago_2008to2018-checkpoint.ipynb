{
 "cells": [
  {
   "cell_type": "code",
   "execution_count": 1,
   "metadata": {},
   "outputs": [],
   "source": [
    "import pandas as pd\n",
    "import numpy as np\n",
    "import matplotlib.pyplot as plt\n",
    "import datetime as dt\n",
    "from sklearn import datasets, linear_model"
   ]
  },
  {
   "cell_type": "code",
   "execution_count": 2,
   "metadata": {},
   "outputs": [],
   "source": [
    "#Load CSV data - BEWARE: this is the entire dataset\n",
    "crimes = pd.read_csv('chicago-crimes.csv')"
   ]
  },
  {
   "cell_type": "code",
   "execution_count": 3,
   "metadata": {},
   "outputs": [
    {
     "data": {
      "text/plain": [
       "6756885"
      ]
     },
     "execution_count": 3,
     "metadata": {},
     "output_type": "execute_result"
    }
   ],
   "source": [
    "#crime count since 2001\n",
    "crimes.ID.count()"
   ]
  },
  {
   "cell_type": "code",
   "execution_count": 4,
   "metadata": {},
   "outputs": [
    {
     "data": {
      "text/html": [
       "<div>\n",
       "<style scoped>\n",
       "    .dataframe tbody tr th:only-of-type {\n",
       "        vertical-align: middle;\n",
       "    }\n",
       "\n",
       "    .dataframe tbody tr th {\n",
       "        vertical-align: top;\n",
       "    }\n",
       "\n",
       "    .dataframe thead th {\n",
       "        text-align: right;\n",
       "    }\n",
       "</style>\n",
       "<table border=\"1\" class=\"dataframe\">\n",
       "  <thead>\n",
       "    <tr style=\"text-align: right;\">\n",
       "      <th></th>\n",
       "      <th>ID</th>\n",
       "      <th>Case Number</th>\n",
       "      <th>Date</th>\n",
       "      <th>Block</th>\n",
       "      <th>IUCR</th>\n",
       "      <th>Primary Type</th>\n",
       "      <th>Description</th>\n",
       "      <th>Location Description</th>\n",
       "      <th>Arrest</th>\n",
       "      <th>Domestic</th>\n",
       "      <th>...</th>\n",
       "      <th>Ward</th>\n",
       "      <th>Community Area</th>\n",
       "      <th>FBI Code</th>\n",
       "      <th>X Coordinate</th>\n",
       "      <th>Y Coordinate</th>\n",
       "      <th>Year</th>\n",
       "      <th>Updated On</th>\n",
       "      <th>Latitude</th>\n",
       "      <th>Longitude</th>\n",
       "      <th>Location</th>\n",
       "    </tr>\n",
       "  </thead>\n",
       "  <tbody>\n",
       "    <tr>\n",
       "      <th>0</th>\n",
       "      <td>10000092</td>\n",
       "      <td>HY189866</td>\n",
       "      <td>03/18/2015 07:44:00 PM</td>\n",
       "      <td>047XX W OHIO ST</td>\n",
       "      <td>041A</td>\n",
       "      <td>BATTERY</td>\n",
       "      <td>AGGRAVATED: HANDGUN</td>\n",
       "      <td>STREET</td>\n",
       "      <td>False</td>\n",
       "      <td>False</td>\n",
       "      <td>...</td>\n",
       "      <td>28.0</td>\n",
       "      <td>25.0</td>\n",
       "      <td>04B</td>\n",
       "      <td>1144606.0</td>\n",
       "      <td>1903566.0</td>\n",
       "      <td>2015</td>\n",
       "      <td>02/10/2018 03:50:01 PM</td>\n",
       "      <td>41.891399</td>\n",
       "      <td>-87.744385</td>\n",
       "      <td>(41.891398861, -87.744384567)</td>\n",
       "    </tr>\n",
       "    <tr>\n",
       "      <th>1</th>\n",
       "      <td>10000094</td>\n",
       "      <td>HY190059</td>\n",
       "      <td>03/18/2015 11:00:00 PM</td>\n",
       "      <td>066XX S MARSHFIELD AVE</td>\n",
       "      <td>4625</td>\n",
       "      <td>OTHER OFFENSE</td>\n",
       "      <td>PAROLE VIOLATION</td>\n",
       "      <td>STREET</td>\n",
       "      <td>True</td>\n",
       "      <td>False</td>\n",
       "      <td>...</td>\n",
       "      <td>15.0</td>\n",
       "      <td>67.0</td>\n",
       "      <td>26</td>\n",
       "      <td>1166468.0</td>\n",
       "      <td>1860715.0</td>\n",
       "      <td>2015</td>\n",
       "      <td>02/10/2018 03:50:01 PM</td>\n",
       "      <td>41.773372</td>\n",
       "      <td>-87.665319</td>\n",
       "      <td>(41.773371528, -87.665319468)</td>\n",
       "    </tr>\n",
       "    <tr>\n",
       "      <th>2</th>\n",
       "      <td>10000095</td>\n",
       "      <td>HY190052</td>\n",
       "      <td>03/18/2015 10:45:00 PM</td>\n",
       "      <td>044XX S LAKE PARK AVE</td>\n",
       "      <td>0486</td>\n",
       "      <td>BATTERY</td>\n",
       "      <td>DOMESTIC BATTERY SIMPLE</td>\n",
       "      <td>APARTMENT</td>\n",
       "      <td>False</td>\n",
       "      <td>True</td>\n",
       "      <td>...</td>\n",
       "      <td>4.0</td>\n",
       "      <td>39.0</td>\n",
       "      <td>08B</td>\n",
       "      <td>1185075.0</td>\n",
       "      <td>1875622.0</td>\n",
       "      <td>2015</td>\n",
       "      <td>02/10/2018 03:50:01 PM</td>\n",
       "      <td>41.813861</td>\n",
       "      <td>-87.596643</td>\n",
       "      <td>(41.81386068, -87.596642837)</td>\n",
       "    </tr>\n",
       "    <tr>\n",
       "      <th>3</th>\n",
       "      <td>10000096</td>\n",
       "      <td>HY190054</td>\n",
       "      <td>03/18/2015 10:30:00 PM</td>\n",
       "      <td>051XX S MICHIGAN AVE</td>\n",
       "      <td>0460</td>\n",
       "      <td>BATTERY</td>\n",
       "      <td>SIMPLE</td>\n",
       "      <td>APARTMENT</td>\n",
       "      <td>False</td>\n",
       "      <td>False</td>\n",
       "      <td>...</td>\n",
       "      <td>3.0</td>\n",
       "      <td>40.0</td>\n",
       "      <td>08B</td>\n",
       "      <td>1178033.0</td>\n",
       "      <td>1870804.0</td>\n",
       "      <td>2015</td>\n",
       "      <td>02/10/2018 03:50:01 PM</td>\n",
       "      <td>41.800802</td>\n",
       "      <td>-87.622619</td>\n",
       "      <td>(41.800802415, -87.622619343)</td>\n",
       "    </tr>\n",
       "  </tbody>\n",
       "</table>\n",
       "<p>4 rows × 22 columns</p>\n",
       "</div>"
      ],
      "text/plain": [
       "         ID Case Number                    Date                   Block  IUCR  \\\n",
       "0  10000092    HY189866  03/18/2015 07:44:00 PM         047XX W OHIO ST  041A   \n",
       "1  10000094    HY190059  03/18/2015 11:00:00 PM  066XX S MARSHFIELD AVE  4625   \n",
       "2  10000095    HY190052  03/18/2015 10:45:00 PM   044XX S LAKE PARK AVE  0486   \n",
       "3  10000096    HY190054  03/18/2015 10:30:00 PM    051XX S MICHIGAN AVE  0460   \n",
       "\n",
       "    Primary Type              Description Location Description  Arrest  \\\n",
       "0        BATTERY      AGGRAVATED: HANDGUN               STREET   False   \n",
       "1  OTHER OFFENSE         PAROLE VIOLATION               STREET    True   \n",
       "2        BATTERY  DOMESTIC BATTERY SIMPLE            APARTMENT   False   \n",
       "3        BATTERY                   SIMPLE            APARTMENT   False   \n",
       "\n",
       "   Domestic              ...                Ward  Community Area  FBI Code  \\\n",
       "0     False              ...                28.0            25.0       04B   \n",
       "1     False              ...                15.0            67.0        26   \n",
       "2      True              ...                 4.0            39.0       08B   \n",
       "3     False              ...                 3.0            40.0       08B   \n",
       "\n",
       "   X Coordinate Y Coordinate  Year              Updated On   Latitude  \\\n",
       "0     1144606.0    1903566.0  2015  02/10/2018 03:50:01 PM  41.891399   \n",
       "1     1166468.0    1860715.0  2015  02/10/2018 03:50:01 PM  41.773372   \n",
       "2     1185075.0    1875622.0  2015  02/10/2018 03:50:01 PM  41.813861   \n",
       "3     1178033.0    1870804.0  2015  02/10/2018 03:50:01 PM  41.800802   \n",
       "\n",
       "   Longitude                       Location  \n",
       "0 -87.744385  (41.891398861, -87.744384567)  \n",
       "1 -87.665319  (41.773371528, -87.665319468)  \n",
       "2 -87.596643   (41.81386068, -87.596642837)  \n",
       "3 -87.622619  (41.800802415, -87.622619343)  \n",
       "\n",
       "[4 rows x 22 columns]"
      ]
     },
     "execution_count": 4,
     "metadata": {},
     "output_type": "execute_result"
    }
   ],
   "source": [
    "#Analyzing data format\n",
    "crimes.head(4)"
   ]
  },
  {
   "cell_type": "code",
   "execution_count": 7,
   "metadata": {},
   "outputs": [
    {
     "data": {
      "text/html": [
       "<div>\n",
       "<style scoped>\n",
       "    .dataframe tbody tr th:only-of-type {\n",
       "        vertical-align: middle;\n",
       "    }\n",
       "\n",
       "    .dataframe tbody tr th {\n",
       "        vertical-align: top;\n",
       "    }\n",
       "\n",
       "    .dataframe thead th {\n",
       "        text-align: right;\n",
       "    }\n",
       "</style>\n",
       "<table border=\"1\" class=\"dataframe\">\n",
       "  <thead>\n",
       "    <tr style=\"text-align: right;\">\n",
       "      <th></th>\n",
       "      <th>Date</th>\n",
       "      <th>Primary Type</th>\n",
       "      <th>Description</th>\n",
       "      <th>Location Description</th>\n",
       "      <th>Arrest</th>\n",
       "      <th>Domestic</th>\n",
       "      <th>Beat</th>\n",
       "      <th>District</th>\n",
       "      <th>Community Area</th>\n",
       "      <th>Year</th>\n",
       "    </tr>\n",
       "  </thead>\n",
       "  <tbody>\n",
       "    <tr>\n",
       "      <th>0</th>\n",
       "      <td>03/18/2015 07:44:00 PM</td>\n",
       "      <td>BATTERY</td>\n",
       "      <td>AGGRAVATED: HANDGUN</td>\n",
       "      <td>STREET</td>\n",
       "      <td>False</td>\n",
       "      <td>False</td>\n",
       "      <td>1111</td>\n",
       "      <td>11.0</td>\n",
       "      <td>25.0</td>\n",
       "      <td>2015</td>\n",
       "    </tr>\n",
       "    <tr>\n",
       "      <th>1</th>\n",
       "      <td>03/18/2015 11:00:00 PM</td>\n",
       "      <td>OTHER OFFENSE</td>\n",
       "      <td>PAROLE VIOLATION</td>\n",
       "      <td>STREET</td>\n",
       "      <td>True</td>\n",
       "      <td>False</td>\n",
       "      <td>725</td>\n",
       "      <td>7.0</td>\n",
       "      <td>67.0</td>\n",
       "      <td>2015</td>\n",
       "    </tr>\n",
       "    <tr>\n",
       "      <th>2</th>\n",
       "      <td>03/18/2015 10:45:00 PM</td>\n",
       "      <td>BATTERY</td>\n",
       "      <td>DOMESTIC BATTERY SIMPLE</td>\n",
       "      <td>APARTMENT</td>\n",
       "      <td>False</td>\n",
       "      <td>True</td>\n",
       "      <td>222</td>\n",
       "      <td>2.0</td>\n",
       "      <td>39.0</td>\n",
       "      <td>2015</td>\n",
       "    </tr>\n",
       "    <tr>\n",
       "      <th>3</th>\n",
       "      <td>03/18/2015 10:30:00 PM</td>\n",
       "      <td>BATTERY</td>\n",
       "      <td>SIMPLE</td>\n",
       "      <td>APARTMENT</td>\n",
       "      <td>False</td>\n",
       "      <td>False</td>\n",
       "      <td>225</td>\n",
       "      <td>2.0</td>\n",
       "      <td>40.0</td>\n",
       "      <td>2015</td>\n",
       "    </tr>\n",
       "  </tbody>\n",
       "</table>\n",
       "</div>"
      ],
      "text/plain": [
       "                     Date   Primary Type              Description  \\\n",
       "0  03/18/2015 07:44:00 PM        BATTERY      AGGRAVATED: HANDGUN   \n",
       "1  03/18/2015 11:00:00 PM  OTHER OFFENSE         PAROLE VIOLATION   \n",
       "2  03/18/2015 10:45:00 PM        BATTERY  DOMESTIC BATTERY SIMPLE   \n",
       "3  03/18/2015 10:30:00 PM        BATTERY                   SIMPLE   \n",
       "\n",
       "  Location Description  Arrest  Domestic  Beat  District  Community Area  Year  \n",
       "0               STREET   False     False  1111      11.0            25.0  2015  \n",
       "1               STREET    True     False   725       7.0            67.0  2015  \n",
       "2            APARTMENT   False      True   222       2.0            39.0  2015  \n",
       "3            APARTMENT   False     False   225       2.0            40.0  2015  "
      ]
     },
     "execution_count": 7,
     "metadata": {},
     "output_type": "execute_result"
    }
   ],
   "source": [
    "#droping unnecessary columns\n",
    "crimes.drop(columns=['ID','Case Number','Block','IUCR','FBI Code','X Coordinate','Y Coordinate','Latitude','Longitude','Location','Updated On','Ward'], inplace=True)\n",
    "crimes.head(4)"
   ]
  },
  {
   "cell_type": "code",
   "execution_count": 8,
   "metadata": {},
   "outputs": [],
   "source": [
    "#Setting index for the data. This is done for timeseries analysis\n",
    "date = pd.to_datetime(crimes.Date, format='%m/%d/%Y %I:%M:%S %p')\n",
    "crimes.index = pd.DatetimeIndex(date)"
   ]
  },
  {
   "cell_type": "code",
   "execution_count": 9,
   "metadata": {},
   "outputs": [
    {
     "data": {
      "text/html": [
       "<div>\n",
       "<style scoped>\n",
       "    .dataframe tbody tr th:only-of-type {\n",
       "        vertical-align: middle;\n",
       "    }\n",
       "\n",
       "    .dataframe tbody tr th {\n",
       "        vertical-align: top;\n",
       "    }\n",
       "\n",
       "    .dataframe thead th {\n",
       "        text-align: right;\n",
       "    }\n",
       "</style>\n",
       "<table border=\"1\" class=\"dataframe\">\n",
       "  <thead>\n",
       "    <tr style=\"text-align: right;\">\n",
       "      <th></th>\n",
       "      <th>Primary Type</th>\n",
       "      <th>Description</th>\n",
       "      <th>Location Description</th>\n",
       "      <th>Arrest</th>\n",
       "      <th>Domestic</th>\n",
       "      <th>Beat</th>\n",
       "      <th>District</th>\n",
       "      <th>Community Area</th>\n",
       "      <th>Year</th>\n",
       "    </tr>\n",
       "    <tr>\n",
       "      <th>Date</th>\n",
       "      <th></th>\n",
       "      <th></th>\n",
       "      <th></th>\n",
       "      <th></th>\n",
       "      <th></th>\n",
       "      <th></th>\n",
       "      <th></th>\n",
       "      <th></th>\n",
       "      <th></th>\n",
       "    </tr>\n",
       "  </thead>\n",
       "  <tbody>\n",
       "    <tr>\n",
       "      <th>2015-03-18 19:44:00</th>\n",
       "      <td>BATTERY</td>\n",
       "      <td>AGGRAVATED: HANDGUN</td>\n",
       "      <td>STREET</td>\n",
       "      <td>False</td>\n",
       "      <td>False</td>\n",
       "      <td>1111</td>\n",
       "      <td>11.0</td>\n",
       "      <td>25.0</td>\n",
       "      <td>2015</td>\n",
       "    </tr>\n",
       "    <tr>\n",
       "      <th>2015-03-18 23:00:00</th>\n",
       "      <td>OTHER OFFENSE</td>\n",
       "      <td>PAROLE VIOLATION</td>\n",
       "      <td>STREET</td>\n",
       "      <td>True</td>\n",
       "      <td>False</td>\n",
       "      <td>725</td>\n",
       "      <td>7.0</td>\n",
       "      <td>67.0</td>\n",
       "      <td>2015</td>\n",
       "    </tr>\n",
       "    <tr>\n",
       "      <th>2015-03-18 22:45:00</th>\n",
       "      <td>BATTERY</td>\n",
       "      <td>DOMESTIC BATTERY SIMPLE</td>\n",
       "      <td>APARTMENT</td>\n",
       "      <td>False</td>\n",
       "      <td>True</td>\n",
       "      <td>222</td>\n",
       "      <td>2.0</td>\n",
       "      <td>39.0</td>\n",
       "      <td>2015</td>\n",
       "    </tr>\n",
       "    <tr>\n",
       "      <th>2015-03-18 22:30:00</th>\n",
       "      <td>BATTERY</td>\n",
       "      <td>SIMPLE</td>\n",
       "      <td>APARTMENT</td>\n",
       "      <td>False</td>\n",
       "      <td>False</td>\n",
       "      <td>225</td>\n",
       "      <td>2.0</td>\n",
       "      <td>40.0</td>\n",
       "      <td>2015</td>\n",
       "    </tr>\n",
       "  </tbody>\n",
       "</table>\n",
       "</div>"
      ],
      "text/plain": [
       "                      Primary Type              Description  \\\n",
       "Date                                                          \n",
       "2015-03-18 19:44:00        BATTERY      AGGRAVATED: HANDGUN   \n",
       "2015-03-18 23:00:00  OTHER OFFENSE         PAROLE VIOLATION   \n",
       "2015-03-18 22:45:00        BATTERY  DOMESTIC BATTERY SIMPLE   \n",
       "2015-03-18 22:30:00        BATTERY                   SIMPLE   \n",
       "\n",
       "                    Location Description  Arrest  Domestic  Beat  District  \\\n",
       "Date                                                                         \n",
       "2015-03-18 19:44:00               STREET   False     False  1111      11.0   \n",
       "2015-03-18 23:00:00               STREET    True     False   725       7.0   \n",
       "2015-03-18 22:45:00            APARTMENT   False      True   222       2.0   \n",
       "2015-03-18 22:30:00            APARTMENT   False     False   225       2.0   \n",
       "\n",
       "                     Community Area  Year  \n",
       "Date                                       \n",
       "2015-03-18 19:44:00            25.0  2015  \n",
       "2015-03-18 23:00:00            67.0  2015  \n",
       "2015-03-18 22:45:00            39.0  2015  \n",
       "2015-03-18 22:30:00            40.0  2015  "
      ]
     },
     "execution_count": 9,
     "metadata": {},
     "output_type": "execute_result"
    }
   ],
   "source": [
    "#Drop date column since it is now the index (redundant column). Let's see the new format of the data\n",
    "crimes.drop(columns=['Date'], inplace=True)\n",
    "crimes.head(4)"
   ]
  },
  {
   "cell_type": "code",
   "execution_count": 10,
   "metadata": {},
   "outputs": [
    {
     "data": {
      "text/html": [
       "<div>\n",
       "<style scoped>\n",
       "    .dataframe tbody tr th:only-of-type {\n",
       "        vertical-align: middle;\n",
       "    }\n",
       "\n",
       "    .dataframe tbody tr th {\n",
       "        vertical-align: top;\n",
       "    }\n",
       "\n",
       "    .dataframe thead th {\n",
       "        text-align: right;\n",
       "    }\n",
       "</style>\n",
       "<table border=\"1\" class=\"dataframe\">\n",
       "  <thead>\n",
       "    <tr style=\"text-align: right;\">\n",
       "      <th></th>\n",
       "      <th>Primary Type</th>\n",
       "      <th>Description</th>\n",
       "      <th>Location Description</th>\n",
       "      <th>Arrest</th>\n",
       "      <th>Domestic</th>\n",
       "      <th>Beat</th>\n",
       "      <th>District</th>\n",
       "      <th>Community Area</th>\n",
       "      <th>Year</th>\n",
       "    </tr>\n",
       "  </thead>\n",
       "  <tbody>\n",
       "    <tr>\n",
       "      <th>count</th>\n",
       "      <td>6756885</td>\n",
       "      <td>6756885</td>\n",
       "      <td>6752720</td>\n",
       "      <td>6756885</td>\n",
       "      <td>6756885</td>\n",
       "      <td>6.756885e+06</td>\n",
       "      <td>6.756838e+06</td>\n",
       "      <td>6.140856e+06</td>\n",
       "      <td>6.756885e+06</td>\n",
       "    </tr>\n",
       "    <tr>\n",
       "      <th>unique</th>\n",
       "      <td>35</td>\n",
       "      <td>379</td>\n",
       "      <td>179</td>\n",
       "      <td>2</td>\n",
       "      <td>2</td>\n",
       "      <td>NaN</td>\n",
       "      <td>NaN</td>\n",
       "      <td>NaN</td>\n",
       "      <td>NaN</td>\n",
       "    </tr>\n",
       "    <tr>\n",
       "      <th>top</th>\n",
       "      <td>THEFT</td>\n",
       "      <td>SIMPLE</td>\n",
       "      <td>STREET</td>\n",
       "      <td>False</td>\n",
       "      <td>False</td>\n",
       "      <td>NaN</td>\n",
       "      <td>NaN</td>\n",
       "      <td>NaN</td>\n",
       "      <td>NaN</td>\n",
       "    </tr>\n",
       "    <tr>\n",
       "      <th>freq</th>\n",
       "      <td>1420411</td>\n",
       "      <td>797214</td>\n",
       "      <td>1772776</td>\n",
       "      <td>4883459</td>\n",
       "      <td>5870182</td>\n",
       "      <td>NaN</td>\n",
       "      <td>NaN</td>\n",
       "      <td>NaN</td>\n",
       "      <td>NaN</td>\n",
       "    </tr>\n",
       "    <tr>\n",
       "      <th>mean</th>\n",
       "      <td>NaN</td>\n",
       "      <td>NaN</td>\n",
       "      <td>NaN</td>\n",
       "      <td>NaN</td>\n",
       "      <td>NaN</td>\n",
       "      <td>1.191865e+03</td>\n",
       "      <td>1.130306e+01</td>\n",
       "      <td>3.758136e+01</td>\n",
       "      <td>2.008333e+03</td>\n",
       "    </tr>\n",
       "    <tr>\n",
       "      <th>std</th>\n",
       "      <td>NaN</td>\n",
       "      <td>NaN</td>\n",
       "      <td>NaN</td>\n",
       "      <td>NaN</td>\n",
       "      <td>NaN</td>\n",
       "      <td>7.033942e+02</td>\n",
       "      <td>6.945608e+00</td>\n",
       "      <td>2.153190e+01</td>\n",
       "      <td>5.017390e+00</td>\n",
       "    </tr>\n",
       "    <tr>\n",
       "      <th>min</th>\n",
       "      <td>NaN</td>\n",
       "      <td>NaN</td>\n",
       "      <td>NaN</td>\n",
       "      <td>NaN</td>\n",
       "      <td>NaN</td>\n",
       "      <td>1.110000e+02</td>\n",
       "      <td>1.000000e+00</td>\n",
       "      <td>0.000000e+00</td>\n",
       "      <td>2.001000e+03</td>\n",
       "    </tr>\n",
       "    <tr>\n",
       "      <th>25%</th>\n",
       "      <td>NaN</td>\n",
       "      <td>NaN</td>\n",
       "      <td>NaN</td>\n",
       "      <td>NaN</td>\n",
       "      <td>NaN</td>\n",
       "      <td>6.220000e+02</td>\n",
       "      <td>6.000000e+00</td>\n",
       "      <td>2.300000e+01</td>\n",
       "      <td>2.004000e+03</td>\n",
       "    </tr>\n",
       "    <tr>\n",
       "      <th>50%</th>\n",
       "      <td>NaN</td>\n",
       "      <td>NaN</td>\n",
       "      <td>NaN</td>\n",
       "      <td>NaN</td>\n",
       "      <td>NaN</td>\n",
       "      <td>1.111000e+03</td>\n",
       "      <td>1.000000e+01</td>\n",
       "      <td>3.200000e+01</td>\n",
       "      <td>2.008000e+03</td>\n",
       "    </tr>\n",
       "    <tr>\n",
       "      <th>75%</th>\n",
       "      <td>NaN</td>\n",
       "      <td>NaN</td>\n",
       "      <td>NaN</td>\n",
       "      <td>NaN</td>\n",
       "      <td>NaN</td>\n",
       "      <td>1.731000e+03</td>\n",
       "      <td>1.700000e+01</td>\n",
       "      <td>5.700000e+01</td>\n",
       "      <td>2.012000e+03</td>\n",
       "    </tr>\n",
       "    <tr>\n",
       "      <th>max</th>\n",
       "      <td>NaN</td>\n",
       "      <td>NaN</td>\n",
       "      <td>NaN</td>\n",
       "      <td>NaN</td>\n",
       "      <td>NaN</td>\n",
       "      <td>2.535000e+03</td>\n",
       "      <td>3.100000e+01</td>\n",
       "      <td>7.700000e+01</td>\n",
       "      <td>2.018000e+03</td>\n",
       "    </tr>\n",
       "  </tbody>\n",
       "</table>\n",
       "</div>"
      ],
      "text/plain": [
       "       Primary Type Description Location Description   Arrest Domestic  \\\n",
       "count       6756885     6756885              6752720  6756885  6756885   \n",
       "unique           35         379                  179        2        2   \n",
       "top           THEFT      SIMPLE               STREET    False    False   \n",
       "freq        1420411      797214              1772776  4883459  5870182   \n",
       "mean            NaN         NaN                  NaN      NaN      NaN   \n",
       "std             NaN         NaN                  NaN      NaN      NaN   \n",
       "min             NaN         NaN                  NaN      NaN      NaN   \n",
       "25%             NaN         NaN                  NaN      NaN      NaN   \n",
       "50%             NaN         NaN                  NaN      NaN      NaN   \n",
       "75%             NaN         NaN                  NaN      NaN      NaN   \n",
       "max             NaN         NaN                  NaN      NaN      NaN   \n",
       "\n",
       "                Beat      District  Community Area          Year  \n",
       "count   6.756885e+06  6.756838e+06    6.140856e+06  6.756885e+06  \n",
       "unique           NaN           NaN             NaN           NaN  \n",
       "top              NaN           NaN             NaN           NaN  \n",
       "freq             NaN           NaN             NaN           NaN  \n",
       "mean    1.191865e+03  1.130306e+01    3.758136e+01  2.008333e+03  \n",
       "std     7.033942e+02  6.945608e+00    2.153190e+01  5.017390e+00  \n",
       "min     1.110000e+02  1.000000e+00    0.000000e+00  2.001000e+03  \n",
       "25%     6.220000e+02  6.000000e+00    2.300000e+01  2.004000e+03  \n",
       "50%     1.111000e+03  1.000000e+01    3.200000e+01  2.008000e+03  \n",
       "75%     1.731000e+03  1.700000e+01    5.700000e+01  2.012000e+03  \n",
       "max     2.535000e+03  3.100000e+01    7.700000e+01  2.018000e+03  "
      ]
     },
     "execution_count": 10,
     "metadata": {},
     "output_type": "execute_result"
    }
   ],
   "source": [
    "#here we can see the following:\n",
    "# - Primary Type has 35 different values, the top (most common) one being THEFT\n",
    "# - Description has 379 different values, the top being SIMPLE\n",
    "# - Out of the 6 million crimes, 6756885 - 4883459 = 1,873,426 resulted in arrests\n",
    "crimes.describe(include='all')"
   ]
  },
  {
   "cell_type": "code",
   "execution_count": 11,
   "metadata": {},
   "outputs": [
    {
     "data": {
      "text/plain": [
       "THEFT                  1420411\n",
       "BATTERY                1233999\n",
       "CRIMINAL DAMAGE         772478\n",
       "NARCOTICS               711369\n",
       "OTHER OFFENSE           419218\n",
       "ASSAULT                 419171\n",
       "BURGLARY                388426\n",
       "MOTOR VEHICLE THEFT     314588\n",
       "Name: Primary Type, dtype: int64"
      ]
     },
     "execution_count": 11,
     "metadata": {},
     "output_type": "execute_result"
    }
   ],
   "source": [
    "#Top 8 crimes types overall\n",
    "crimes['Primary Type'].value_counts().head(8)"
   ]
  },
  {
   "cell_type": "code",
   "execution_count": 12,
   "metadata": {
    "scrolled": true
   },
   "outputs": [
    {
     "data": {
      "image/png": "[encoded data removed]",
      "text/plain": [
       "<Figure size 288x288 with 1 Axes>"
      ]
     },
     "metadata": {
      "needs_background": "light"
     },
     "output_type": "display_data"
    }
   ],
   "source": [
    "#Visualize data from before\n",
    "plt.figure(figsize=(4,4))\n",
    "crimes['Primary Type'].value_counts().head(8).plot(kind='barh')\n",
    "plt.title('Number of crimes by type')\n",
    "plt.ylabel('Crime Type')\n",
    "plt.xlabel('Number of crimes')\n",
    "plt.show()"
   ]
  },
  {
   "cell_type": "code",
   "execution_count": 13,
   "metadata": {},
   "outputs": [
    {
     "data": {
      "text/plain": [
       "STREET                            1772776\n",
       "RESIDENCE                         1144179\n",
       "APARTMENT                          698697\n",
       "SIDEWALK                           666112\n",
       "OTHER                              256803\n",
       "PARKING LOT/GARAGE(NON.RESID.)     194063\n",
       "ALLEY                              151041\n",
       "SCHOOL, PUBLIC, BUILDING           142344\n",
       "Name: Location Description, dtype: int64"
      ]
     },
     "execution_count": 13,
     "metadata": {},
     "output_type": "execute_result"
    }
   ],
   "source": [
    "#Top 8 crime location\n",
    "crimes['Location Description'].value_counts().head(8)"
   ]
  },
  {
   "cell_type": "code",
   "execution_count": 14,
   "metadata": {},
   "outputs": [
    {
     "data": {
      "image/png": "[encoded data removed]",
      "text/plain": [
       "<Figure size 288x288 with 1 Axes>"
      ]
     },
     "metadata": {
      "needs_background": "light"
     },
     "output_type": "display_data"
    }
   ],
   "source": [
    "#Visualize data from before\n",
    "plt.figure(figsize=(4,4))\n",
    "crimes['Location Description'].value_counts().head(8).plot(kind='barh')\n",
    "plt.title('Top 20 Number of crimes by Location')\n",
    "plt.ylabel('Crime Location')\n",
    "plt.xlabel('Number of crimes')\n",
    "plt.show()"
   ]
  },
  {
   "cell_type": "code",
   "execution_count": 15,
   "metadata": {},
   "outputs": [
    {
     "data": {
      "text/plain": [
       "SIMPLE                          797214\n",
       "$500 AND UNDER                  547798\n",
       "DOMESTIC BATTERY SIMPLE         518140\n",
       "TO VEHICLE                      375329\n",
       "TO PROPERTY                     355361\n",
       "OVER $500                       348980\n",
       "POSS: CANNABIS 30GMS OR LESS    276648\n",
       "FORCIBLE ENTRY                  263217\n",
       "Name: Description, dtype: int64"
      ]
     },
     "execution_count": 15,
     "metadata": {},
     "output_type": "execute_result"
    }
   ],
   "source": [
    "#Top 8 crime descriptions\n",
    "crimes['Description'].value_counts().head(8)"
   ]
  },
  {
   "cell_type": "code",
   "execution_count": 16,
   "metadata": {},
   "outputs": [
    {
     "data": {
      "image/png": "[encoded data removed]",
      "text/plain": [
       "<Figure size 576x720 with 1 Axes>"
      ]
     },
     "metadata": {
      "needs_background": "light"
     },
     "output_type": "display_data"
    }
   ],
   "source": [
    "#Top 8 crime descriptions visualization\n",
    "plt.figure(figsize=(8,10))\n",
    "crimes['Description'].value_counts().head(8).plot(kind='barh')\n",
    "plt.title('Top 20 Number of crimes by description')\n",
    "plt.ylabel('Crime Description')\n",
    "plt.xlabel('Number of crimes')\n",
    "plt.show()"
   ]
  },
  {
   "cell_type": "code",
   "execution_count": 25,
   "metadata": {
    "scrolled": true
   },
   "outputs": [
    {
     "data": {
      "text/plain": [
       "Date\n",
       "2013-12-31    307039\n",
       "2014-12-31    275212\n",
       "2015-12-31    263943\n",
       "2016-12-31    268827\n",
       "2017-12-31    267823\n",
       "Freq: A-DEC, dtype: int64"
      ]
     },
     "execution_count": 25,
     "metadata": {},
     "output_type": "execute_result"
    }
   ],
   "source": [
    "#Visualization of crimes by year.\n",
    "#We exclude 2018 because data is not complete for this year\n",
    "yearly_crimes = crimes.resample('Y').size()[:\"2017\"]\n",
    "yearly_crimes.tail()"
   ]
  },
  {
   "cell_type": "code",
   "execution_count": 26,
   "metadata": {},
   "outputs": [
    {
     "data": {
      "image/png": "[encoded data removed]",
      "text/plain": [
       "<Figure size 432x288 with 1 Axes>"
      ]
     },
     "metadata": {
      "needs_background": "light"
     },
     "output_type": "display_data"
    }
   ],
   "source": [
    "p = yearly_crimes.plot()"
   ]
  },
  {
   "cell_type": "code",
   "execution_count": 27,
   "metadata": {},
   "outputs": [
    {
     "data": {
      "text/plain": [
       "Date\n",
       "2018-06-30    23943\n",
       "2018-07-31    24904\n",
       "2018-08-31    24978\n",
       "2018-09-30    22596\n",
       "2018-10-31    22294\n",
       "Freq: M, dtype: int64"
      ]
     },
     "execution_count": 27,
     "metadata": {},
     "output_type": "execute_result"
    }
   ],
   "source": [
    "#Group crimes by month - excluding november 2018\n",
    "monthly_crimes = crimes.resample('M').size()[:\"2018-10\"]\n",
    "monthly_crimes.tail()"
   ]
  },
  {
   "cell_type": "code",
   "execution_count": 28,
   "metadata": {},
   "outputs": [
    {
     "data": {
      "image/png": "[encoded data removed]",
      "text/plain": [
       "<Figure size 1152x360 with 1 Axes>"
      ]
     },
     "metadata": {
      "needs_background": "light"
     },
     "output_type": "display_data"
    }
   ],
   "source": [
    "plt.figure(figsize=(16,5))\n",
    "monthly_crimes.plot(legend=False)\n",
    "plt.title('Number of crimes per month (2008 - 2018)')\n",
    "plt.xlabel('Months')\n",
    "plt.ylabel('Number of crimes')\n",
    "plt.show()"
   ]
  },
  {
   "cell_type": "code",
   "execution_count": 29,
   "metadata": {},
   "outputs": [
    {
     "data": {
      "text/plain": [
       "Date\n",
       "2001-01-31    38098\n",
       "2001-02-28    33779\n",
       "2001-03-31    40553\n",
       "2001-04-30    40080\n",
       "2001-05-31    41821\n",
       "2001-06-30    41724\n",
       "2001-07-31    44691\n",
       "2001-08-31    44032\n",
       "2001-09-30    41502\n",
       "2001-10-31    43028\n",
       "2001-11-30    39596\n",
       "2001-12-31    36846\n",
       "2002-01-31    38400\n",
       "2002-02-28    33909\n",
       "2002-03-31    38584\n",
       "2002-04-30    40035\n",
       "2002-05-31    42913\n",
       "2002-06-30    42834\n",
       "2002-07-31    46013\n",
       "2002-08-31    44210\n",
       "2002-09-30    42388\n",
       "2002-10-31    43145\n",
       "2002-11-30    37151\n",
       "2002-12-31    37171\n",
       "Freq: M, dtype: int64"
      ]
     },
     "execution_count": 29,
     "metadata": {},
     "output_type": "execute_result"
    }
   ],
   "source": [
    "#Digging into the data, we notice that for every year, there's a surge of crimes during\n",
    "#summer months - May to October, being July usually the one with most crime\n",
    "monthly_crimes.head(24)"
   ]
  },
  {
   "cell_type": "code",
   "execution_count": 30,
   "metadata": {},
   "outputs": [],
   "source": [
    "#Analyzing daily crimes\n",
    "daily_crime = crimes.resample('D').size()"
   ]
  },
  {
   "cell_type": "code",
   "execution_count": 34,
   "metadata": {},
   "outputs": [
    {
     "data": {
      "text/plain": [
       "[[Timestamp('2001-01-01 00:00:00', freq='D'), 1815],\n",
       " [Timestamp('2002-01-01 00:00:00', freq='D'), 1854],\n",
       " [Timestamp('2003-01-01 00:00:00', freq='D'), 2023],\n",
       " [Timestamp('2004-01-01 00:00:00', freq='D'), 1890],\n",
       " [Timestamp('2005-01-01 00:00:00', freq='D'), 1961],\n",
       " [Timestamp('2006-01-01 00:00:00', freq='D'), 1901],\n",
       " [Timestamp('2007-01-01 00:00:00', freq='D'), 1946],\n",
       " [Timestamp('2008-01-01 00:00:00', freq='D'), 1801],\n",
       " [Timestamp('2009-01-01 00:00:00', freq='D'), 1818],\n",
       " [Timestamp('2010-01-01 00:00:00', freq='D'), 1421],\n",
       " [Timestamp('2011-01-01 00:00:00', freq='D'), 1531],\n",
       " [Timestamp('2012-01-01 00:00:00', freq='D'), 1494],\n",
       " [Timestamp('2013-01-01 00:00:00', freq='D'), 1358],\n",
       " [Timestamp('2014-01-01 00:00:00', freq='D'), 1148],\n",
       " [Timestamp('2015-01-01 00:00:00', freq='D'), 1160],\n",
       " [Timestamp('2016-01-01 00:00:00', freq='D'), 1052],\n",
       " [Timestamp('2017-01-01 00:00:00', freq='D'), 1101],\n",
       " [Timestamp('2018-05-01 00:00:00', freq='D'), 959]]"
      ]
     },
     "execution_count": 34,
     "metadata": {},
     "output_type": "execute_result"
    }
   ],
   "source": [
    "#Here we are analyzing the most violent day of each year\n",
    "#For some reason, it seems to be January 1st for each year,\n",
    "#except 2018 in whic it is May first.\n",
    "topdays = [\n",
    "    daily_crime['2001'].nlargest(1),\n",
    "    daily_crime['2002'].nlargest(1),\n",
    "    daily_crime['2003'].nlargest(1),\n",
    "    daily_crime['2004'].nlargest(1),\n",
    "    daily_crime['2005'].nlargest(1),\n",
    "    daily_crime['2006'].nlargest(1),\n",
    "    daily_crime['2007'].nlargest(1),\n",
    "    daily_crime['2008'].nlargest(1),\n",
    "    daily_crime['2009'].nlargest(1),\n",
    "    daily_crime['2010'].nlargest(1),\n",
    "    daily_crime['2011'].nlargest(1),\n",
    "    daily_crime['2012'].nlargest(1),\n",
    "    daily_crime['2013'].nlargest(1),\n",
    "    daily_crime['2014'].nlargest(1),\n",
    "    daily_crime['2015'].nlargest(1),\n",
    "    daily_crime['2016'].nlargest(1),\n",
    "    daily_crime['2017'].nlargest(1),\n",
    "    daily_crime['2018'].nlargest(1)\n",
    "]\n",
    "described = []\n",
    "\n",
    "for t in topdays:\n",
    "    described.append([t.index[0], t[0]])\n",
    "described"
   ]
  },
  {
   "cell_type": "code",
   "execution_count": 35,
   "metadata": {},
   "outputs": [
    {
     "data": {
      "image/png": "[encoded data removed]",
      "text/plain": [
       "<Figure size 576x720 with 1 Axes>"
      ]
     },
     "metadata": {
      "needs_background": "light"
     },
     "output_type": "display_data"
    }
   ],
   "source": [
    "plt.figure(figsize=(8,10))\n",
    "crimes.index.weekday_name.value_counts().sort_values(ascending=False).plot(kind='barh')\n",
    "plt.title('Crime by Weekday')\n",
    "plt.ylabel('Weekday')\n",
    "plt.xlabel('Number of crimes by week')\n",
    "plt.show()"
   ]
  },
  {
   "cell_type": "code",
   "execution_count": 52,
   "metadata": {},
   "outputs": [
    {
     "data": {
      "text/plain": [
       "Year\n",
       "2001    39596\n",
       "2002    37151\n",
       "2003    38055\n",
       "2004    36838\n",
       "2005    35977\n",
       "2006    35567\n",
       "2007    34422\n",
       "2008    33555\n",
       "2009    31387\n",
       "2010    28881\n",
       "2011    27627\n",
       "2012    26022\n",
       "2013    23545\n",
       "2014    20734\n",
       "2015    20548\n",
       "2016    21693\n",
       "2017    21425\n",
       "dtype: int64"
      ]
     },
     "execution_count": 52,
     "metadata": {},
     "output_type": "execute_result"
    }
   ],
   "source": [
    "#Now we'll try to predict the number of crimes for november 2018\n",
    "#It should predict more than 17,000\n",
    "november = crimes[crimes.index.month == 11].groupby('Year').size().head(-1)\n",
    "november"
   ]
  },
  {
   "cell_type": "code",
   "execution_count": 68,
   "metadata": {},
   "outputs": [
    {
     "data": {
      "text/plain": [
       "array([18359.52205882])"
      ]
     },
     "execution_count": 68,
     "metadata": {},
     "output_type": "execute_result"
    }
   ],
   "source": [
    "#This uses linear regression to predict the following\n",
    "#November 2018 will have 18,359 crimes (so far, chicago reports 17,000 for november 2018, not that far off!)\n",
    "regr = linear_model.LinearRegression()\n",
    "\n",
    "X = []\n",
    "xx = november.index.tolist()\n",
    "i = 0\n",
    "\n",
    "for x in xx:\n",
    "    X.append([i, x])\n",
    "\n",
    "regr.fit(X, november)\n",
    "regr.predict([[670, 2018]])"
   ]
  }
 ],
 "metadata": {
  "kernelspec": {
   "display_name": "Python 3",
   "language": "python",
   "name": "python3"
  },
  "language_info": {
   "codemirror_mode": {
    "name": "ipython",
    "version": 3
   },
   "file_extension": ".py",
   "mimetype": "text/x-python",
   "name": "python",
   "nbconvert_exporter": "python",
   "pygments_lexer": "ipython3",
   "version": "3.7.0"
  }
 },
 "nbformat": 4,
 "nbformat_minor": 2
}
