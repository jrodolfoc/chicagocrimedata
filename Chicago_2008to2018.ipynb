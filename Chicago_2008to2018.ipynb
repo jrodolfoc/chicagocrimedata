{
 "cells": [
  {
   "cell_type": "code",
   "execution_count": 2,
   "metadata": {},
   "outputs": [],
   "source": [
    "import pandas as pd\n",
    "import numpy as np\n",
    "import matplotlib.pyplot as plt\n",
    "import datetime as dt"
   ]
  },
  {
   "cell_type": "code",
   "execution_count": 113,
   "metadata": {},
   "outputs": [],
   "source": [
    "#Load CSV data - BEWARE: this is the entire dataset\n",
    "crimes = pd.read_csv('chicago-crimes.csv')"
   ]
  },
  {
   "cell_type": "code",
   "execution_count": 4,
   "metadata": {},
   "outputs": [
    {
     "data": {
      "text/plain": [
       "6756885"
      ]
     },
     "execution_count": 4,
     "metadata": {},
     "output_type": "execute_result"
    }
   ],
   "source": [
    "#crime count since 2001\n",
    "crimes.ID.count()"
   ]
  },
  {
   "cell_type": "code",
   "execution_count": 5,
   "metadata": {},
   "outputs": [
    {
     "data": {
      "text/html": [
       "<div>\n",
       "<style scoped>\n",
       "    .dataframe tbody tr th:only-of-type {\n",
       "        vertical-align: middle;\n",
       "    }\n",
       "\n",
       "    .dataframe tbody tr th {\n",
       "        vertical-align: top;\n",
       "    }\n",
       "\n",
       "    .dataframe thead th {\n",
       "        text-align: right;\n",
       "    }\n",
       "</style>\n",
       "<table border=\"1\" class=\"dataframe\">\n",
       "  <thead>\n",
       "    <tr style=\"text-align: right;\">\n",
       "      <th></th>\n",
       "      <th>ID</th>\n",
       "      <th>Case Number</th>\n",
       "      <th>Date</th>\n",
       "      <th>Block</th>\n",
       "      <th>IUCR</th>\n",
       "      <th>Primary Type</th>\n",
       "      <th>Description</th>\n",
       "      <th>Location Description</th>\n",
       "      <th>Arrest</th>\n",
       "      <th>Domestic</th>\n",
       "      <th>...</th>\n",
       "      <th>Ward</th>\n",
       "      <th>Community Area</th>\n",
       "      <th>FBI Code</th>\n",
       "      <th>X Coordinate</th>\n",
       "      <th>Y Coordinate</th>\n",
       "      <th>Year</th>\n",
       "      <th>Updated On</th>\n",
       "      <th>Latitude</th>\n",
       "      <th>Longitude</th>\n",
       "      <th>Location</th>\n",
       "    </tr>\n",
       "  </thead>\n",
       "  <tbody>\n",
       "    <tr>\n",
       "      <th>0</th>\n",
       "      <td>10000092</td>\n",
       "      <td>HY189866</td>\n",
       "      <td>03/18/2015 07:44:00 PM</td>\n",
       "      <td>047XX W OHIO ST</td>\n",
       "      <td>041A</td>\n",
       "      <td>BATTERY</td>\n",
       "      <td>AGGRAVATED: HANDGUN</td>\n",
       "      <td>STREET</td>\n",
       "      <td>False</td>\n",
       "      <td>False</td>\n",
       "      <td>...</td>\n",
       "      <td>28.0</td>\n",
       "      <td>25.0</td>\n",
       "      <td>04B</td>\n",
       "      <td>1144606.0</td>\n",
       "      <td>1903566.0</td>\n",
       "      <td>2015</td>\n",
       "      <td>02/10/2018 03:50:01 PM</td>\n",
       "      <td>41.891399</td>\n",
       "      <td>-87.744385</td>\n",
       "      <td>(41.891398861, -87.744384567)</td>\n",
       "    </tr>\n",
       "    <tr>\n",
       "      <th>1</th>\n",
       "      <td>10000094</td>\n",
       "      <td>HY190059</td>\n",
       "      <td>03/18/2015 11:00:00 PM</td>\n",
       "      <td>066XX S MARSHFIELD AVE</td>\n",
       "      <td>4625</td>\n",
       "      <td>OTHER OFFENSE</td>\n",
       "      <td>PAROLE VIOLATION</td>\n",
       "      <td>STREET</td>\n",
       "      <td>True</td>\n",
       "      <td>False</td>\n",
       "      <td>...</td>\n",
       "      <td>15.0</td>\n",
       "      <td>67.0</td>\n",
       "      <td>26</td>\n",
       "      <td>1166468.0</td>\n",
       "      <td>1860715.0</td>\n",
       "      <td>2015</td>\n",
       "      <td>02/10/2018 03:50:01 PM</td>\n",
       "      <td>41.773372</td>\n",
       "      <td>-87.665319</td>\n",
       "      <td>(41.773371528, -87.665319468)</td>\n",
       "    </tr>\n",
       "    <tr>\n",
       "      <th>2</th>\n",
       "      <td>10000095</td>\n",
       "      <td>HY190052</td>\n",
       "      <td>03/18/2015 10:45:00 PM</td>\n",
       "      <td>044XX S LAKE PARK AVE</td>\n",
       "      <td>0486</td>\n",
       "      <td>BATTERY</td>\n",
       "      <td>DOMESTIC BATTERY SIMPLE</td>\n",
       "      <td>APARTMENT</td>\n",
       "      <td>False</td>\n",
       "      <td>True</td>\n",
       "      <td>...</td>\n",
       "      <td>4.0</td>\n",
       "      <td>39.0</td>\n",
       "      <td>08B</td>\n",
       "      <td>1185075.0</td>\n",
       "      <td>1875622.0</td>\n",
       "      <td>2015</td>\n",
       "      <td>02/10/2018 03:50:01 PM</td>\n",
       "      <td>41.813861</td>\n",
       "      <td>-87.596643</td>\n",
       "      <td>(41.81386068, -87.596642837)</td>\n",
       "    </tr>\n",
       "    <tr>\n",
       "      <th>3</th>\n",
       "      <td>10000096</td>\n",
       "      <td>HY190054</td>\n",
       "      <td>03/18/2015 10:30:00 PM</td>\n",
       "      <td>051XX S MICHIGAN AVE</td>\n",
       "      <td>0460</td>\n",
       "      <td>BATTERY</td>\n",
       "      <td>SIMPLE</td>\n",
       "      <td>APARTMENT</td>\n",
       "      <td>False</td>\n",
       "      <td>False</td>\n",
       "      <td>...</td>\n",
       "      <td>3.0</td>\n",
       "      <td>40.0</td>\n",
       "      <td>08B</td>\n",
       "      <td>1178033.0</td>\n",
       "      <td>1870804.0</td>\n",
       "      <td>2015</td>\n",
       "      <td>02/10/2018 03:50:01 PM</td>\n",
       "      <td>41.800802</td>\n",
       "      <td>-87.622619</td>\n",
       "      <td>(41.800802415, -87.622619343)</td>\n",
       "    </tr>\n",
       "  </tbody>\n",
       "</table>\n",
       "<p>4 rows × 22 columns</p>\n",
       "</div>"
      ],
      "text/plain": [
       "         ID Case Number                    Date                   Block  IUCR  \\\n",
       "0  10000092    HY189866  03/18/2015 07:44:00 PM         047XX W OHIO ST  041A   \n",
       "1  10000094    HY190059  03/18/2015 11:00:00 PM  066XX S MARSHFIELD AVE  4625   \n",
       "2  10000095    HY190052  03/18/2015 10:45:00 PM   044XX S LAKE PARK AVE  0486   \n",
       "3  10000096    HY190054  03/18/2015 10:30:00 PM    051XX S MICHIGAN AVE  0460   \n",
       "\n",
       "    Primary Type              Description Location Description  Arrest  \\\n",
       "0        BATTERY      AGGRAVATED: HANDGUN               STREET   False   \n",
       "1  OTHER OFFENSE         PAROLE VIOLATION               STREET    True   \n",
       "2        BATTERY  DOMESTIC BATTERY SIMPLE            APARTMENT   False   \n",
       "3        BATTERY                   SIMPLE            APARTMENT   False   \n",
       "\n",
       "   Domestic              ...                Ward  Community Area  FBI Code  \\\n",
       "0     False              ...                28.0            25.0       04B   \n",
       "1     False              ...                15.0            67.0        26   \n",
       "2      True              ...                 4.0            39.0       08B   \n",
       "3     False              ...                 3.0            40.0       08B   \n",
       "\n",
       "   X Coordinate Y Coordinate  Year              Updated On   Latitude  \\\n",
       "0     1144606.0    1903566.0  2015  02/10/2018 03:50:01 PM  41.891399   \n",
       "1     1166468.0    1860715.0  2015  02/10/2018 03:50:01 PM  41.773372   \n",
       "2     1185075.0    1875622.0  2015  02/10/2018 03:50:01 PM  41.813861   \n",
       "3     1178033.0    1870804.0  2015  02/10/2018 03:50:01 PM  41.800802   \n",
       "\n",
       "   Longitude                       Location  \n",
       "0 -87.744385  (41.891398861, -87.744384567)  \n",
       "1 -87.665319  (41.773371528, -87.665319468)  \n",
       "2 -87.596643   (41.81386068, -87.596642837)  \n",
       "3 -87.622619  (41.800802415, -87.622619343)  \n",
       "\n",
       "[4 rows x 22 columns]"
      ]
     },
     "execution_count": 5,
     "metadata": {},
     "output_type": "execute_result"
    }
   ],
   "source": [
    "#Analyzing data format\n",
    "crimes.head(4)"
   ]
  },
  {
   "cell_type": "code",
   "execution_count": 115,
   "metadata": {},
   "outputs": [
    {
     "data": {
      "text/html": [
       "<div>\n",
       "<style scoped>\n",
       "    .dataframe tbody tr th:only-of-type {\n",
       "        vertical-align: middle;\n",
       "    }\n",
       "\n",
       "    .dataframe tbody tr th {\n",
       "        vertical-align: top;\n",
       "    }\n",
       "\n",
       "    .dataframe thead th {\n",
       "        text-align: right;\n",
       "    }\n",
       "</style>\n",
       "<table border=\"1\" class=\"dataframe\">\n",
       "  <thead>\n",
       "    <tr style=\"text-align: right;\">\n",
       "      <th></th>\n",
       "      <th>Date</th>\n",
       "      <th>Primary Type</th>\n",
       "      <th>Description</th>\n",
       "      <th>Location Description</th>\n",
       "      <th>Arrest</th>\n",
       "      <th>Domestic</th>\n",
       "      <th>Beat</th>\n",
       "      <th>District</th>\n",
       "      <th>Community Area</th>\n",
       "      <th>Year</th>\n",
       "    </tr>\n",
       "  </thead>\n",
       "  <tbody>\n",
       "    <tr>\n",
       "      <th>0</th>\n",
       "      <td>03/18/2015 07:44:00 PM</td>\n",
       "      <td>BATTERY</td>\n",
       "      <td>AGGRAVATED: HANDGUN</td>\n",
       "      <td>STREET</td>\n",
       "      <td>False</td>\n",
       "      <td>False</td>\n",
       "      <td>1111</td>\n",
       "      <td>11.0</td>\n",
       "      <td>25.0</td>\n",
       "      <td>2015</td>\n",
       "    </tr>\n",
       "    <tr>\n",
       "      <th>1</th>\n",
       "      <td>03/18/2015 11:00:00 PM</td>\n",
       "      <td>OTHER OFFENSE</td>\n",
       "      <td>PAROLE VIOLATION</td>\n",
       "      <td>STREET</td>\n",
       "      <td>True</td>\n",
       "      <td>False</td>\n",
       "      <td>725</td>\n",
       "      <td>7.0</td>\n",
       "      <td>67.0</td>\n",
       "      <td>2015</td>\n",
       "    </tr>\n",
       "    <tr>\n",
       "      <th>2</th>\n",
       "      <td>03/18/2015 10:45:00 PM</td>\n",
       "      <td>BATTERY</td>\n",
       "      <td>DOMESTIC BATTERY SIMPLE</td>\n",
       "      <td>APARTMENT</td>\n",
       "      <td>False</td>\n",
       "      <td>True</td>\n",
       "      <td>222</td>\n",
       "      <td>2.0</td>\n",
       "      <td>39.0</td>\n",
       "      <td>2015</td>\n",
       "    </tr>\n",
       "    <tr>\n",
       "      <th>3</th>\n",
       "      <td>03/18/2015 10:30:00 PM</td>\n",
       "      <td>BATTERY</td>\n",
       "      <td>SIMPLE</td>\n",
       "      <td>APARTMENT</td>\n",
       "      <td>False</td>\n",
       "      <td>False</td>\n",
       "      <td>225</td>\n",
       "      <td>2.0</td>\n",
       "      <td>40.0</td>\n",
       "      <td>2015</td>\n",
       "    </tr>\n",
       "  </tbody>\n",
       "</table>\n",
       "</div>"
      ],
      "text/plain": [
       "                     Date   Primary Type              Description  \\\n",
       "0  03/18/2015 07:44:00 PM        BATTERY      AGGRAVATED: HANDGUN   \n",
       "1  03/18/2015 11:00:00 PM  OTHER OFFENSE         PAROLE VIOLATION   \n",
       "2  03/18/2015 10:45:00 PM        BATTERY  DOMESTIC BATTERY SIMPLE   \n",
       "3  03/18/2015 10:30:00 PM        BATTERY                   SIMPLE   \n",
       "\n",
       "  Location Description  Arrest  Domestic  Beat  District  Community Area  Year  \n",
       "0               STREET   False     False  1111      11.0            25.0  2015  \n",
       "1               STREET    True     False   725       7.0            67.0  2015  \n",
       "2            APARTMENT   False      True   222       2.0            39.0  2015  \n",
       "3            APARTMENT   False     False   225       2.0            40.0  2015  "
      ]
     },
     "execution_count": 115,
     "metadata": {},
     "output_type": "execute_result"
    }
   ],
   "source": [
    "#droping unnecessary columns\n",
    "crimes.drop(columns=['ID','Case Number','Block','IUCR','FBI Code','X Coordinate','Y Coordinate','Latitude','Longitude','Location','Updated On','Ward'], inplace=True)\n",
    "crimes.head(4)"
   ]
  },
  {
   "cell_type": "code",
   "execution_count": 116,
   "metadata": {},
   "outputs": [],
   "source": [
    "#Setting index for the data. This is done for timeseries analysis\n",
    "date = pd.to_datetime(crimes.Date, format='%m/%d/%Y %I:%M:%S %p')\n",
    "crimes.index = pd.DatetimeIndex(date)"
   ]
  },
  {
   "cell_type": "code",
   "execution_count": 117,
   "metadata": {},
   "outputs": [
    {
     "data": {
      "text/html": [
       "<div>\n",
       "<style scoped>\n",
       "    .dataframe tbody tr th:only-of-type {\n",
       "        vertical-align: middle;\n",
       "    }\n",
       "\n",
       "    .dataframe tbody tr th {\n",
       "        vertical-align: top;\n",
       "    }\n",
       "\n",
       "    .dataframe thead th {\n",
       "        text-align: right;\n",
       "    }\n",
       "</style>\n",
       "<table border=\"1\" class=\"dataframe\">\n",
       "  <thead>\n",
       "    <tr style=\"text-align: right;\">\n",
       "      <th></th>\n",
       "      <th>Primary Type</th>\n",
       "      <th>Description</th>\n",
       "      <th>Location Description</th>\n",
       "      <th>Arrest</th>\n",
       "      <th>Domestic</th>\n",
       "      <th>Beat</th>\n",
       "      <th>District</th>\n",
       "      <th>Community Area</th>\n",
       "      <th>Year</th>\n",
       "    </tr>\n",
       "    <tr>\n",
       "      <th>Date</th>\n",
       "      <th></th>\n",
       "      <th></th>\n",
       "      <th></th>\n",
       "      <th></th>\n",
       "      <th></th>\n",
       "      <th></th>\n",
       "      <th></th>\n",
       "      <th></th>\n",
       "      <th></th>\n",
       "    </tr>\n",
       "  </thead>\n",
       "  <tbody>\n",
       "    <tr>\n",
       "      <th>2015-03-18 19:44:00</th>\n",
       "      <td>BATTERY</td>\n",
       "      <td>AGGRAVATED: HANDGUN</td>\n",
       "      <td>STREET</td>\n",
       "      <td>False</td>\n",
       "      <td>False</td>\n",
       "      <td>1111</td>\n",
       "      <td>11.0</td>\n",
       "      <td>25.0</td>\n",
       "      <td>2015</td>\n",
       "    </tr>\n",
       "    <tr>\n",
       "      <th>2015-03-18 23:00:00</th>\n",
       "      <td>OTHER OFFENSE</td>\n",
       "      <td>PAROLE VIOLATION</td>\n",
       "      <td>STREET</td>\n",
       "      <td>True</td>\n",
       "      <td>False</td>\n",
       "      <td>725</td>\n",
       "      <td>7.0</td>\n",
       "      <td>67.0</td>\n",
       "      <td>2015</td>\n",
       "    </tr>\n",
       "    <tr>\n",
       "      <th>2015-03-18 22:45:00</th>\n",
       "      <td>BATTERY</td>\n",
       "      <td>DOMESTIC BATTERY SIMPLE</td>\n",
       "      <td>APARTMENT</td>\n",
       "      <td>False</td>\n",
       "      <td>True</td>\n",
       "      <td>222</td>\n",
       "      <td>2.0</td>\n",
       "      <td>39.0</td>\n",
       "      <td>2015</td>\n",
       "    </tr>\n",
       "    <tr>\n",
       "      <th>2015-03-18 22:30:00</th>\n",
       "      <td>BATTERY</td>\n",
       "      <td>SIMPLE</td>\n",
       "      <td>APARTMENT</td>\n",
       "      <td>False</td>\n",
       "      <td>False</td>\n",
       "      <td>225</td>\n",
       "      <td>2.0</td>\n",
       "      <td>40.0</td>\n",
       "      <td>2015</td>\n",
       "    </tr>\n",
       "  </tbody>\n",
       "</table>\n",
       "</div>"
      ],
      "text/plain": [
       "                      Primary Type              Description  \\\n",
       "Date                                                          \n",
       "2015-03-18 19:44:00        BATTERY      AGGRAVATED: HANDGUN   \n",
       "2015-03-18 23:00:00  OTHER OFFENSE         PAROLE VIOLATION   \n",
       "2015-03-18 22:45:00        BATTERY  DOMESTIC BATTERY SIMPLE   \n",
       "2015-03-18 22:30:00        BATTERY                   SIMPLE   \n",
       "\n",
       "                    Location Description  Arrest  Domestic  Beat  District  \\\n",
       "Date                                                                         \n",
       "2015-03-18 19:44:00               STREET   False     False  1111      11.0   \n",
       "2015-03-18 23:00:00               STREET    True     False   725       7.0   \n",
       "2015-03-18 22:45:00            APARTMENT   False      True   222       2.0   \n",
       "2015-03-18 22:30:00            APARTMENT   False     False   225       2.0   \n",
       "\n",
       "                     Community Area  Year  \n",
       "Date                                       \n",
       "2015-03-18 19:44:00            25.0  2015  \n",
       "2015-03-18 23:00:00            67.0  2015  \n",
       "2015-03-18 22:45:00            39.0  2015  \n",
       "2015-03-18 22:30:00            40.0  2015  "
      ]
     },
     "execution_count": 117,
     "metadata": {},
     "output_type": "execute_result"
    }
   ],
   "source": [
    "#Drop date column since it is now the index (redundant column). Let's see the new format of the data\n",
    "crimes.drop(columns=['Date'], inplace=True)\n",
    "crimes.head(4)"
   ]
  },
  {
   "cell_type": "code",
   "execution_count": 122,
   "metadata": {},
   "outputs": [
    {
     "data": {
      "text/plain": [
       "3483258"
      ]
     },
     "execution_count": 122,
     "metadata": {},
     "output_type": "execute_result"
    }
   ],
   "source": [
    "#Filter out data that is earlier than 2008 and greater than october 2018\n",
    "#We are excluding november because it is incomplete (november 20, 2018 is the most recent data)\n",
    "#This leaves us with 3,483,258 records\n",
    "crimes_november = crimes['2018-11']\n",
    "crimes_before_2008 = crimes[crimes.Year < 2008]\n",
    "crimes = crimes['2008-01-01 00:00:00':'2018-10-31 23:59:59']\n",
    "crimes.Description.count()"
   ]
  },
  {
   "cell_type": "code",
   "execution_count": 120,
   "metadata": {},
   "outputs": [
    {
     "data": {
      "text/plain": [
       "17000"
      ]
     },
     "execution_count": 120,
     "metadata": {},
     "output_type": "execute_result"
    }
   ],
   "source": [
    "#Crimes so far in november 2018 ...\n",
    "crimes_november.Description.count()"
   ]
  },
  {
   "cell_type": "code",
   "execution_count": 121,
   "metadata": {},
   "outputs": [
    {
     "data": {
      "text/plain": [
       "3256627"
      ]
     },
     "execution_count": 121,
     "metadata": {},
     "output_type": "execute_result"
    }
   ],
   "source": [
    "#crimes that happened before 2008\n",
    "#Verifying that numbers match => 3483258 + 17000 + 3256627 = 6756885\n",
    "crimes_before_2008.Description.count()"
   ]
  },
  {
   "cell_type": "code",
   "execution_count": 55,
   "metadata": {},
   "outputs": [
    {
     "data": {
      "text/html": [
       "<div>\n",
       "<style scoped>\n",
       "    .dataframe tbody tr th:only-of-type {\n",
       "        vertical-align: middle;\n",
       "    }\n",
       "\n",
       "    .dataframe tbody tr th {\n",
       "        vertical-align: top;\n",
       "    }\n",
       "\n",
       "    .dataframe thead th {\n",
       "        text-align: right;\n",
       "    }\n",
       "</style>\n",
       "<table border=\"1\" class=\"dataframe\">\n",
       "  <thead>\n",
       "    <tr style=\"text-align: right;\">\n",
       "      <th></th>\n",
       "      <th>Primary Type</th>\n",
       "      <th>Description</th>\n",
       "      <th>Location Description</th>\n",
       "      <th>Arrest</th>\n",
       "      <th>Domestic</th>\n",
       "      <th>Beat</th>\n",
       "      <th>District</th>\n",
       "      <th>Community Area</th>\n",
       "      <th>Year</th>\n",
       "    </tr>\n",
       "  </thead>\n",
       "  <tbody>\n",
       "    <tr>\n",
       "      <th>count</th>\n",
       "      <td>3483258</td>\n",
       "      <td>3483258</td>\n",
       "      <td>3479188</td>\n",
       "      <td>3483258</td>\n",
       "      <td>3483258</td>\n",
       "      <td>3.483258e+06</td>\n",
       "      <td>3.483217e+06</td>\n",
       "      <td>3.482397e+06</td>\n",
       "      <td>3.483258e+06</td>\n",
       "    </tr>\n",
       "    <tr>\n",
       "      <th>unique</th>\n",
       "      <td>33</td>\n",
       "      <td>361</td>\n",
       "      <td>164</td>\n",
       "      <td>2</td>\n",
       "      <td>2</td>\n",
       "      <td>NaN</td>\n",
       "      <td>NaN</td>\n",
       "      <td>NaN</td>\n",
       "      <td>NaN</td>\n",
       "    </tr>\n",
       "    <tr>\n",
       "      <th>top</th>\n",
       "      <td>THEFT</td>\n",
       "      <td>SIMPLE</td>\n",
       "      <td>STREET</td>\n",
       "      <td>False</td>\n",
       "      <td>False</td>\n",
       "      <td>NaN</td>\n",
       "      <td>NaN</td>\n",
       "      <td>NaN</td>\n",
       "      <td>NaN</td>\n",
       "    </tr>\n",
       "    <tr>\n",
       "      <th>freq</th>\n",
       "      <td>767207</td>\n",
       "      <td>358614</td>\n",
       "      <td>826180</td>\n",
       "      <td>2590901</td>\n",
       "      <td>2980590</td>\n",
       "      <td>NaN</td>\n",
       "      <td>NaN</td>\n",
       "      <td>NaN</td>\n",
       "      <td>NaN</td>\n",
       "    </tr>\n",
       "    <tr>\n",
       "      <th>mean</th>\n",
       "      <td>NaN</td>\n",
       "      <td>NaN</td>\n",
       "      <td>NaN</td>\n",
       "      <td>NaN</td>\n",
       "      <td>NaN</td>\n",
       "      <td>1.174201e+03</td>\n",
       "      <td>1.129755e+01</td>\n",
       "      <td>3.755004e+01</td>\n",
       "      <td>2.012408e+03</td>\n",
       "    </tr>\n",
       "    <tr>\n",
       "      <th>std</th>\n",
       "      <td>NaN</td>\n",
       "      <td>NaN</td>\n",
       "      <td>NaN</td>\n",
       "      <td>NaN</td>\n",
       "      <td>NaN</td>\n",
       "      <td>6.996256e+02</td>\n",
       "      <td>6.935027e+00</td>\n",
       "      <td>2.153592e+01</td>\n",
       "      <td>3.143409e+00</td>\n",
       "    </tr>\n",
       "    <tr>\n",
       "      <th>min</th>\n",
       "      <td>NaN</td>\n",
       "      <td>NaN</td>\n",
       "      <td>NaN</td>\n",
       "      <td>NaN</td>\n",
       "      <td>NaN</td>\n",
       "      <td>1.110000e+02</td>\n",
       "      <td>1.000000e+00</td>\n",
       "      <td>0.000000e+00</td>\n",
       "      <td>2.008000e+03</td>\n",
       "    </tr>\n",
       "    <tr>\n",
       "      <th>25%</th>\n",
       "      <td>NaN</td>\n",
       "      <td>NaN</td>\n",
       "      <td>NaN</td>\n",
       "      <td>NaN</td>\n",
       "      <td>NaN</td>\n",
       "      <td>6.210000e+02</td>\n",
       "      <td>6.000000e+00</td>\n",
       "      <td>2.300000e+01</td>\n",
       "      <td>2.010000e+03</td>\n",
       "    </tr>\n",
       "    <tr>\n",
       "      <th>50%</th>\n",
       "      <td>NaN</td>\n",
       "      <td>NaN</td>\n",
       "      <td>NaN</td>\n",
       "      <td>NaN</td>\n",
       "      <td>NaN</td>\n",
       "      <td>1.032000e+03</td>\n",
       "      <td>1.000000e+01</td>\n",
       "      <td>3.200000e+01</td>\n",
       "      <td>2.012000e+03</td>\n",
       "    </tr>\n",
       "    <tr>\n",
       "      <th>75%</th>\n",
       "      <td>NaN</td>\n",
       "      <td>NaN</td>\n",
       "      <td>NaN</td>\n",
       "      <td>NaN</td>\n",
       "      <td>NaN</td>\n",
       "      <td>1.723000e+03</td>\n",
       "      <td>1.700000e+01</td>\n",
       "      <td>5.700000e+01</td>\n",
       "      <td>2.015000e+03</td>\n",
       "    </tr>\n",
       "    <tr>\n",
       "      <th>max</th>\n",
       "      <td>NaN</td>\n",
       "      <td>NaN</td>\n",
       "      <td>NaN</td>\n",
       "      <td>NaN</td>\n",
       "      <td>NaN</td>\n",
       "      <td>2.535000e+03</td>\n",
       "      <td>3.100000e+01</td>\n",
       "      <td>7.700000e+01</td>\n",
       "      <td>2.018000e+03</td>\n",
       "    </tr>\n",
       "  </tbody>\n",
       "</table>\n",
       "</div>"
      ],
      "text/plain": [
       "       Primary Type Description Location Description   Arrest Domestic  \\\n",
       "count       3483258     3483258              3479188  3483258  3483258   \n",
       "unique           33         361                  164        2        2   \n",
       "top           THEFT      SIMPLE               STREET    False    False   \n",
       "freq         767207      358614               826180  2590901  2980590   \n",
       "mean            NaN         NaN                  NaN      NaN      NaN   \n",
       "std             NaN         NaN                  NaN      NaN      NaN   \n",
       "min             NaN         NaN                  NaN      NaN      NaN   \n",
       "25%             NaN         NaN                  NaN      NaN      NaN   \n",
       "50%             NaN         NaN                  NaN      NaN      NaN   \n",
       "75%             NaN         NaN                  NaN      NaN      NaN   \n",
       "max             NaN         NaN                  NaN      NaN      NaN   \n",
       "\n",
       "                Beat      District  Community Area          Year  \n",
       "count   3.483258e+06  3.483217e+06    3.482397e+06  3.483258e+06  \n",
       "unique           NaN           NaN             NaN           NaN  \n",
       "top              NaN           NaN             NaN           NaN  \n",
       "freq             NaN           NaN             NaN           NaN  \n",
       "mean    1.174201e+03  1.129755e+01    3.755004e+01  2.012408e+03  \n",
       "std     6.996256e+02  6.935027e+00    2.153592e+01  3.143409e+00  \n",
       "min     1.110000e+02  1.000000e+00    0.000000e+00  2.008000e+03  \n",
       "25%     6.210000e+02  6.000000e+00    2.300000e+01  2.010000e+03  \n",
       "50%     1.032000e+03  1.000000e+01    3.200000e+01  2.012000e+03  \n",
       "75%     1.723000e+03  1.700000e+01    5.700000e+01  2.015000e+03  \n",
       "max     2.535000e+03  3.100000e+01    7.700000e+01  2.018000e+03  "
      ]
     },
     "execution_count": 55,
     "metadata": {},
     "output_type": "execute_result"
    }
   ],
   "source": [
    "#here we can see the following:\n",
    "# - Primary Type has 33 different values, the top (most common) one being THEFT\n",
    "# - Description has 361 different values, the top being SIMPLE\n",
    "# - Out of the 3 million crimes, 3483258 - 2590901 = 892,357 resulted in arrests\n",
    "crimes.describe(include='all')"
   ]
  },
  {
   "cell_type": "code",
   "execution_count": 57,
   "metadata": {},
   "outputs": [
    {
     "data": {
      "text/plain": [
       "THEFT                 767207\n",
       "BATTERY               623516\n",
       "CRIMINAL DAMAGE       385364\n",
       "NARCOTICS             330240\n",
       "ASSAULT               217331\n",
       "OTHER OFFENSE         213110\n",
       "BURGLARY              211623\n",
       "DECEPTIVE PRACTICE    165571\n",
       "Name: Primary Type, dtype: int64"
      ]
     },
     "execution_count": 57,
     "metadata": {},
     "output_type": "execute_result"
    }
   ],
   "source": [
    "#Top 8 crimes types overall\n",
    "crimes['Primary Type'].value_counts().head(8)"
   ]
  },
  {
   "cell_type": "code",
   "execution_count": 61,
   "metadata": {
    "scrolled": true
   },
   "outputs": [
    {
     "data": {
      "image/png": "[encoded data removed]",
      "text/plain": [
       "<Figure size 288x288 with 1 Axes>"
      ]
     },
     "metadata": {
      "needs_background": "light"
     },
     "output_type": "display_data"
    }
   ],
   "source": [
    "#Visualize data from before\n",
    "plt.figure(figsize=(4,4))\n",
    "crimes['Primary Type'].value_counts().head(8).plot(kind='barh')\n",
    "plt.title('Number of crimes by type')\n",
    "plt.ylabel('Crime Type')\n",
    "plt.xlabel('Number of crimes')\n",
    "plt.show()"
   ]
  },
  {
   "cell_type": "code",
   "execution_count": 63,
   "metadata": {},
   "outputs": [
    {
     "data": {
      "text/plain": [
       "STREET                            826180\n",
       "RESIDENCE                         574201\n",
       "APARTMENT                         422171\n",
       "SIDEWALK                          375232\n",
       "OTHER                             128723\n",
       "PARKING LOT/GARAGE(NON.RESID.)    100285\n",
       "ALLEY                              75918\n",
       "SMALL RETAIL STORE                 67209\n",
       "Name: Location Description, dtype: int64"
      ]
     },
     "execution_count": 63,
     "metadata": {},
     "output_type": "execute_result"
    }
   ],
   "source": [
    "#Top 8 crime location\n",
    "crimes['Location Description'].value_counts().head(8)"
   ]
  },
  {
   "cell_type": "code",
   "execution_count": 62,
   "metadata": {},
   "outputs": [
    {
     "data": {
      "image/png": "[encoded data removed]",
      "text/plain": [
       "<Figure size 288x288 with 1 Axes>"
      ]
     },
     "metadata": {
      "needs_background": "light"
     },
     "output_type": "display_data"
    }
   ],
   "source": [
    "#Visualize data from before\n",
    "plt.figure(figsize=(4,4))\n",
    "crimes['Location Description'].value_counts().head(8).plot(kind='barh')\n",
    "plt.title('Top 20 Number of crimes by Location')\n",
    "plt.ylabel('Crime Location')\n",
    "plt.xlabel('Number of crimes')\n",
    "plt.show()"
   ]
  },
  {
   "cell_type": "code",
   "execution_count": 66,
   "metadata": {},
   "outputs": [
    {
     "data": {
      "text/plain": [
       "SIMPLE                          358614\n",
       "DOMESTIC BATTERY SIMPLE         304260\n",
       "$500 AND UNDER                  283775\n",
       "TO VEHICLE                      186918\n",
       "OVER $500                       185611\n",
       "TO PROPERTY                     175467\n",
       "POSS: CANNABIS 30GMS OR LESS    147255\n",
       "FORCIBLE ENTRY                  138337\n",
       "Name: Description, dtype: int64"
      ]
     },
     "execution_count": 66,
     "metadata": {},
     "output_type": "execute_result"
    }
   ],
   "source": [
    "#Top 8 crime descriptions\n",
    "crimes['Description'].value_counts().head(8)"
   ]
  },
  {
   "cell_type": "code",
   "execution_count": 65,
   "metadata": {},
   "outputs": [
    {
     "data": {
      "image/png": "[encoded data removed]",
      "text/plain": [
       "<Figure size 576x720 with 1 Axes>"
      ]
     },
     "metadata": {
      "needs_background": "light"
     },
     "output_type": "display_data"
    }
   ],
   "source": [
    "#Top 8 crime descriptions visualization\n",
    "plt.figure(figsize=(8,10))\n",
    "crimes['Description'].value_counts().head(8).plot(kind='barh')\n",
    "plt.title('Top 20 Number of crimes by description')\n",
    "plt.ylabel('Crime Description')\n",
    "plt.xlabel('Number of crimes')\n",
    "plt.show()"
   ]
  },
  {
   "cell_type": "code",
   "execution_count": 21,
   "metadata": {
    "scrolled": true
   },
   "outputs": [
    {
     "data": {
      "image/png": "[encoded data removed]",
      "text/plain": [
       "<Figure size 432x288 with 1 Axes>"
      ]
     },
     "metadata": {
      "needs_background": "light"
     },
     "output_type": "display_data"
    }
   ],
   "source": [
    "#Visualization of crimes by year.\n",
    "#We exclud 2018 because data is not complete for this year\n",
    "by_year = crimes.groupby([crimes.Year]).size().head(10).plot()"
   ]
  },
  {
   "cell_type": "code",
   "execution_count": 26,
   "metadata": {},
   "outputs": [],
   "source": [
    "#Group crimes by month - excluding november 2018\n",
    "monthly_crimes = crimes.resample('M').size().head(129)"
   ]
  },
  {
   "cell_type": "code",
   "execution_count": 28,
   "metadata": {},
   "outputs": [
    {
     "data": {
      "image/png": "[encoded data removed]",
      "text/plain": [
       "<Figure size 792x360 with 1 Axes>"
      ]
     },
     "metadata": {
      "needs_background": "light"
     },
     "output_type": "display_data"
    }
   ],
   "source": [
    "plt.figure(figsize=(11,5))\n",
    "monthly_crimes.plot(legend=False)\n",
    "plt.title('Number of crimes per month (2008 - 2018)')\n",
    "plt.xlabel('Months')\n",
    "plt.ylabel('Number of crimes')\n",
    "plt.show()"
   ]
  },
  {
   "cell_type": "code",
   "execution_count": 59,
   "metadata": {},
   "outputs": [
    {
     "data": {
      "text/plain": [
       "Date\n",
       "2008-01-31    33360\n",
       "2008-02-29    29042\n",
       "2008-03-31    33973\n",
       "2008-04-30    35592\n",
       "2008-05-31    38062\n",
       "2008-06-30    37697\n",
       "2008-07-31    40489\n",
       "2008-08-31    40537\n",
       "2008-09-30    37444\n",
       "2008-10-31    37878\n",
       "2008-11-30    33555\n",
       "2008-12-31    29410\n",
       "2009-01-31    30231\n",
       "2009-02-28    28225\n",
       "2009-03-31    33683\n",
       "2009-04-30    32562\n",
       "2009-05-31    35238\n",
       "2009-06-30    34265\n",
       "2009-07-31    35673\n",
       "2009-08-31    35824\n",
       "2009-09-30    33866\n",
       "2009-10-31    33527\n",
       "2009-11-30    31387\n",
       "2009-12-31    28184\n",
       "Freq: M, dtype: int64"
      ]
     },
     "execution_count": 59,
     "metadata": {},
     "output_type": "execute_result"
    }
   ],
   "source": [
    "#Digging into the data, we notice that for every year, there's a surge of crimes during\n",
    "#summer months - May to September, being July usually the one with most crime\n",
    "monthly_crimes.head(24)"
   ]
  },
  {
   "cell_type": "code",
   "execution_count": 70,
   "metadata": {},
   "outputs": [],
   "source": [
    "#Analyzing daily crimes\n",
    "daily_crime = crimes.resample('D').size()"
   ]
  },
  {
   "cell_type": "code",
   "execution_count": 95,
   "metadata": {},
   "outputs": [
    {
     "data": {
      "text/plain": [
       "[[Timestamp('2008-01-01 00:00:00', freq='D'), 1801],\n",
       " [Timestamp('2009-01-01 00:00:00', freq='D'), 1818],\n",
       " [Timestamp('2010-01-01 00:00:00', freq='D'), 1421],\n",
       " [Timestamp('2011-01-01 00:00:00', freq='D'), 1531],\n",
       " [Timestamp('2012-01-01 00:00:00', freq='D'), 1494],\n",
       " [Timestamp('2013-01-01 00:00:00', freq='D'), 1358],\n",
       " [Timestamp('2014-01-01 00:00:00', freq='D'), 1148],\n",
       " [Timestamp('2015-01-01 00:00:00', freq='D'), 1160],\n",
       " [Timestamp('2016-01-01 00:00:00', freq='D'), 1052],\n",
       " [Timestamp('2017-01-01 00:00:00', freq='D'), 1101],\n",
       " [Timestamp('2018-05-01 00:00:00', freq='D'), 959]]"
      ]
     },
     "execution_count": 95,
     "metadata": {},
     "output_type": "execute_result"
    }
   ],
   "source": [
    "#Here we are analyzing the most violent day of each year\n",
    "#For some reason, it seems to be January 1st for each year,\n",
    "#except 2018 in whic it is May first.\n",
    "topdays = [\n",
    "    daily_crime['2008'].nlargest(1),\n",
    "    daily_crime['2009'].nlargest(1),\n",
    "    daily_crime['2010'].nlargest(1),\n",
    "    daily_crime['2011'].nlargest(1),\n",
    "    daily_crime['2012'].nlargest(1),\n",
    "    daily_crime['2013'].nlargest(1),\n",
    "    daily_crime['2014'].nlargest(1),\n",
    "    daily_crime['2015'].nlargest(1),\n",
    "    daily_crime['2016'].nlargest(1),\n",
    "    daily_crime['2017'].nlargest(1),\n",
    "    daily_crime['2018'].nlargest(1)\n",
    "]\n",
    "described = []\n",
    "\n",
    "for t in topdays:\n",
    "    described.append([t.index[0], t[0]])\n",
    "described"
   ]
  },
  {
   "cell_type": "code",
   "execution_count": 105,
   "metadata": {},
   "outputs": [
    {
     "data": {
      "image/png": "[encoded data removed]",
      "text/plain": [
       "<Figure size 576x720 with 1 Axes>"
      ]
     },
     "metadata": {
      "needs_background": "light"
     },
     "output_type": "display_data"
    }
   ],
   "source": [
    "plt.figure(figsize=(8,10))\n",
    "crimes.index.weekday_name.value_counts().sort_values(ascending=False).plot(kind='barh')\n",
    "plt.title('Crime by Weekday')\n",
    "plt.ylabel('Weekday')\n",
    "plt.xlabel('Number of crimes by week')\n",
    "plt.show()"
   ]
  },
  {
   "cell_type": "code",
   "execution_count": 130,
   "metadata": {},
   "outputs": [
    {
     "data": {
      "text/plain": [
       "Year\n",
       "2008    33555\n",
       "2009    31387\n",
       "2010    28881\n",
       "2011    27627\n",
       "2012    26022\n",
       "2013    23545\n",
       "2014    20734\n",
       "2015    20548\n",
       "2016    21693\n",
       "2017    21425\n",
       "dtype: int64"
      ]
     },
     "execution_count": 130,
     "metadata": {},
     "output_type": "execute_result"
    }
   ],
   "source": [
    "#Now we'll try to predict the number of crimes for november 2018\n",
    "november = crimes[crimes.index.month == 11].groupby('Year').size()\n",
    "november"
   ]
  },
  {
   "cell_type": "code",
   "execution_count": 134,
   "metadata": {},
   "outputs": [
    {
     "ename": "AttributeError",
     "evalue": "module 'pandas' has no attribute 'ols'",
     "output_type": "error",
     "traceback": [
      "\u001b[1;31m---------------------------------------------------------------------------\u001b[0m",
      "\u001b[1;31mAttributeError\u001b[0m                            Traceback (most recent call last)",
      "\u001b[1;32m<ipython-input-134-4525f195b661>\u001b[0m in \u001b[0;36m<module>\u001b[1;34m()\u001b[0m\n\u001b[1;32m----> 1\u001b[1;33m \u001b[0mpd\u001b[0m\u001b[1;33m.\u001b[0m\u001b[0mols\u001b[0m\u001b[1;33m(\u001b[0m\u001b[0mx\u001b[0m\u001b[1;33m=\u001b[0m\u001b[0mnovember\u001b[0m\u001b[1;33m.\u001b[0m\u001b[0mindex\u001b[0m\u001b[1;33m,\u001b[0m \u001b[0my\u001b[0m\u001b[1;33m=\u001b[0m\u001b[0mnovember\u001b[0m\u001b[1;33m[\u001b[0m\u001b[1;36m0\u001b[0m\u001b[1;33m]\u001b[0m\u001b[1;33m)\u001b[0m\u001b[1;33m\u001b[0m\u001b[0m\n\u001b[0m",
      "\u001b[1;31mAttributeError\u001b[0m: module 'pandas' has no attribute 'ols'"
     ]
    }
   ],
   "source": [
    "pd.stats.ols.MovingOLS(x=november.index, y=november[0])"
   ]
  }
 ],
 "metadata": {
  "kernelspec": {
   "display_name": "Python 3",
   "language": "python",
   "name": "python3"
  },
  "language_info": {
   "codemirror_mode": {
    "name": "ipython",
    "version": 3
   },
   "file_extension": ".py",
   "mimetype": "text/x-python",
   "name": "python",
   "nbconvert_exporter": "python",
   "pygments_lexer": "ipython3",
   "version": "3.7.0"
  }
 },
 "nbformat": 4,
 "nbformat_minor": 2
}
